{
 "cells": [
  {
   "cell_type": "code",
   "execution_count": 1,
   "metadata": {},
   "outputs": [],
   "source": [
    "import akshare as ak\n",
    "import pandas as pd\n",
    "from datetime import datetime\n",
    "from concurrent.futures import ThreadPoolExecutor\n",
    "import time\n",
    "import stock_zh_a_spot_em_zk"
   ]
  },
  {
   "cell_type": "code",
   "execution_count": null,
   "metadata": {},
   "outputs": [],
   "source": [
    "stock_zh_a_spot_df = ak.stock_zh_a_spot_em_zk()\n",
    "stock_zh_a_spot_df.to_csv('20250317.csv', index=False, encoding='gbk')"
   ]
  },
  {
   "cell_type": "code",
   "execution_count": null,
   "metadata": {},
   "outputs": [
    {
     "ename": "AttributeError",
     "evalue": "module 'akshare' has no attribute 'stock_industry_info'",
     "output_type": "error",
     "traceback": [
      "\u001b[1;31m---------------------------------------------------------------------------\u001b[0m",
      "\u001b[1;31mAttributeError\u001b[0m                            Traceback (most recent call last)",
      "Cell \u001b[1;32mIn[19], line 3\u001b[0m\n\u001b[0;32m      1\u001b[0m \u001b[38;5;28;01mimport\u001b[39;00m\u001b[38;5;250m \u001b[39m\u001b[38;5;21;01makshare\u001b[39;00m\u001b[38;5;250m \u001b[39m\u001b[38;5;28;01mas\u001b[39;00m\u001b[38;5;250m \u001b[39m\u001b[38;5;21;01mak\u001b[39;00m\n\u001b[1;32m----> 3\u001b[0m df \u001b[38;5;241m=\u001b[39m \u001b[43mak\u001b[49m\u001b[38;5;241;43m.\u001b[39;49m\u001b[43mstock_industry_info\u001b[49m(symbol\u001b[38;5;241m=\u001b[39m\u001b[38;5;124m\"\u001b[39m\u001b[38;5;124m600036\u001b[39m\u001b[38;5;124m\"\u001b[39m)  \u001b[38;5;66;03m# 以招商银行为例\u001b[39;00m\n\u001b[0;32m      4\u001b[0m \u001b[38;5;28mprint\u001b[39m(df)\n",
      "\u001b[1;31mAttributeError\u001b[0m: module 'akshare' has no attribute 'stock_industry_info'"
     ]
    },
    {
     "ename": "",
     "evalue": "",
     "output_type": "error",
     "traceback": [
      "\u001b[1;31mThe Kernel crashed while executing code in the current cell or a previous cell. \n",
      "\u001b[1;31mPlease review the code in the cell(s) to identify a possible cause of the failure. \n",
      "\u001b[1;31mClick <a href='https://aka.ms/vscodeJupyterKernelCrash'>here</a> for more info. \n",
      "\u001b[1;31mView Jupyter <a href='command:jupyter.viewOutput'>log</a> for further details."
     ]
    }
   ],
   "source": [
    "info = ak.stock_individual_info_em(symbol=\"000949\")\n",
    "print(info.values[6][1])"
   ]
  },
  {
   "cell_type": "code",
   "execution_count": 16,
   "metadata": {},
   "outputs": [
    {
     "ename": "KeyError",
     "evalue": "'data'",
     "output_type": "error",
     "traceback": [
      "\u001b[1;31m---------------------------------------------------------------------------\u001b[0m",
      "\u001b[1;31mKeyError\u001b[0m                                  Traceback (most recent call last)",
      "Cell \u001b[1;32mIn[16], line 1\u001b[0m\n\u001b[1;32m----> 1\u001b[0m stock_individual_basic_info_xq_df \u001b[38;5;241m=\u001b[39m \u001b[43mak\u001b[49m\u001b[38;5;241;43m.\u001b[39;49m\u001b[43mstock_individual_basic_info_xq\u001b[49m\u001b[43m(\u001b[49m\u001b[43msymbol\u001b[49m\u001b[38;5;241;43m=\u001b[39;49m\u001b[38;5;124;43m\"\u001b[39;49m\u001b[38;5;124;43m601127\u001b[39;49m\u001b[38;5;124;43m\"\u001b[39;49m\u001b[43m)\u001b[49m\n\u001b[0;32m      2\u001b[0m \u001b[38;5;28mprint\u001b[39m(stock_individual_basic_info_xq_df)\n",
      "File \u001b[1;32mc:\\Users\\14834\\.conda\\envs\\stock2\\Lib\\site-packages\\akshare\\stock_fundamental\\stock_basic_info_xq.py:38\u001b[0m, in \u001b[0;36mstock_individual_basic_info_xq\u001b[1;34m(symbol, token, timeout)\u001b[0m\n\u001b[0;32m     36\u001b[0m r \u001b[38;5;241m=\u001b[39m requests\u001b[38;5;241m.\u001b[39mget(url, params\u001b[38;5;241m=\u001b[39mparams, headers\u001b[38;5;241m=\u001b[39mheaders, timeout\u001b[38;5;241m=\u001b[39mtimeout)\n\u001b[0;32m     37\u001b[0m data_json \u001b[38;5;241m=\u001b[39m r\u001b[38;5;241m.\u001b[39mjson()\n\u001b[1;32m---> 38\u001b[0m temp_df \u001b[38;5;241m=\u001b[39m pd\u001b[38;5;241m.\u001b[39mDataFrame(\u001b[43mdata_json\u001b[49m\u001b[43m[\u001b[49m\u001b[38;5;124;43m\"\u001b[39;49m\u001b[38;5;124;43mdata\u001b[39;49m\u001b[38;5;124;43m\"\u001b[39;49m\u001b[43m]\u001b[49m)\n\u001b[0;32m     39\u001b[0m temp_df\u001b[38;5;241m.\u001b[39mreset_index(inplace\u001b[38;5;241m=\u001b[39m\u001b[38;5;28;01mTrue\u001b[39;00m)\n\u001b[0;32m     40\u001b[0m temp_df\u001b[38;5;241m.\u001b[39mcolumns \u001b[38;5;241m=\u001b[39m [\u001b[38;5;124m\"\u001b[39m\u001b[38;5;124mitem\u001b[39m\u001b[38;5;124m\"\u001b[39m, \u001b[38;5;124m\"\u001b[39m\u001b[38;5;124mvalue\u001b[39m\u001b[38;5;124m\"\u001b[39m]\n",
      "\u001b[1;31mKeyError\u001b[0m: 'data'"
     ]
    }
   ],
   "source": [
    "stock_individual_basic_info_xq_df = ak.stock_individual_basic_info_xq(symbol=\"601127\")\n",
    "print(stock_individual_basic_info_xq_df)"
   ]
  },
  {
   "cell_type": "code",
   "execution_count": 2,
   "metadata": {},
   "outputs": [],
   "source": [
    "data = pd.read_csv(\"20250303.csv\", encoding=\"gbk\")\n",
    "data[\"代码\"] = data[\"代码\"].astype(str).str.zfill(6)"
   ]
  },
  {
   "cell_type": "code",
   "execution_count": 3,
   "metadata": {},
   "outputs": [],
   "source": [
    "code_name = data[[\"代码\", \"名称\"]]"
   ]
  },
  {
   "cell_type": "code",
   "execution_count": 4,
   "metadata": {},
   "outputs": [],
   "source": [
    "stock_list = list(zip(code_name[\"代码\"], code_name[\"名称\"]))"
   ]
  },
  {
   "cell_type": "code",
   "execution_count": 30,
   "metadata": {},
   "outputs": [
    {
     "ename": "AttributeError",
     "evalue": "module 'akshare' has no attribute 'stock_individual_info'",
     "output_type": "error",
     "traceback": [
      "\u001b[1;31m---------------------------------------------------------------------------\u001b[0m",
      "\u001b[1;31mAttributeError\u001b[0m                            Traceback (most recent call last)",
      "Cell \u001b[1;32mIn[30], line 4\u001b[0m\n\u001b[0;32m      1\u001b[0m \u001b[38;5;28;01mimport\u001b[39;00m\u001b[38;5;250m \u001b[39m\u001b[38;5;21;01makshare\u001b[39;00m\u001b[38;5;250m \u001b[39m\u001b[38;5;28;01mas\u001b[39;00m\u001b[38;5;250m \u001b[39m\u001b[38;5;21;01mak\u001b[39;00m\n\u001b[0;32m      3\u001b[0m \u001b[38;5;66;03m# 通过股票代码查询个股信息，这里以贵州茅台为例\u001b[39;00m\n\u001b[1;32m----> 4\u001b[0m stock_info \u001b[38;5;241m=\u001b[39m \u001b[43mak\u001b[49m\u001b[38;5;241;43m.\u001b[39;49m\u001b[43mstock_individual_info\u001b[49m(stock\u001b[38;5;241m=\u001b[39m\u001b[38;5;124m\"\u001b[39m\u001b[38;5;124m600519\u001b[39m\u001b[38;5;124m\"\u001b[39m, market\u001b[38;5;241m=\u001b[39m\u001b[38;5;124m\"\u001b[39m\u001b[38;5;124msh\u001b[39m\u001b[38;5;124m\"\u001b[39m)\n\u001b[0;32m      6\u001b[0m \u001b[38;5;66;03m# 打印输出结果\u001b[39;00m\n\u001b[0;32m      7\u001b[0m \u001b[38;5;28mprint\u001b[39m(stock_info)\n",
      "\u001b[1;31mAttributeError\u001b[0m: module 'akshare' has no attribute 'stock_individual_info'"
     ]
    }
   ],
   "source": [
    "import akshare as ak\n",
    "\n",
    "# 通过股票代码查询个股信息，这里以贵州茅台为例\n",
    "stock_info = ak.stock_individual_info(stock=\"600519\", market=\"sh\")\n",
    "\n",
    "# 打印输出结果\n",
    "print(stock_info)"
   ]
  },
  {
   "cell_type": "code",
   "execution_count": 2,
   "metadata": {},
   "outputs": [
    {
     "data": {
      "application/vnd.jupyter.widget-view+json": {
       "model_id": "ec0b858a03ff4eb4b0a081f78c95eb2a",
       "version_major": 2,
       "version_minor": 0
      },
      "text/plain": [
       "  0%|          | 0/2 [00:00<?, ?it/s]"
      ]
     },
     "metadata": {},
     "output_type": "display_data"
    }
   ],
   "source": [
    "data = ak.stock_zh_a_hist_tx(\n",
    "    symbol=\"sz000001\",\n",
    "    \n",
    "    start_date=\"20240301\",\n",
    "    end_date=\"20250310\",\n",
    "    adjust=\"qfq\",\n",
    ")"
   ]
  },
  {
   "cell_type": "code",
   "execution_count": 3,
   "metadata": {},
   "outputs": [],
   "source": [
    "import requests\n",
    "import pandas as pd\n",
    "\n",
    "def code_id_map_em() -> dict:\n",
    "    \"\"\"\n",
    "    东方财富-股票和市场代码\n",
    "    https://quote.eastmoney.com/center/gridlist.html#hs_a_board\n",
    "    :return: 股票和市场代码\n",
    "    :rtype: dict\n",
    "    \"\"\"\n",
    "    url = \"https://80.push2.eastmoney.com/api/qt/clist/get\"\n",
    "    params = {\n",
    "        \"pn\": \"1\",\n",
    "        \"pz\": \"50000\",\n",
    "        \"po\": \"1\",\n",
    "        \"np\": \"2\",\n",
    "        \"ut\": \"bd1d9ddb04089700cf9c27f6f7426281\",\n",
    "        \"fltt\": \"2\",\n",
    "        \"invt\": \"2\",\n",
    "        \"fid\": \"f3\",\n",
    "        \"fs\": \"m:1 t:2,m:1 t:23\",\n",
    "        \"fields\": \"f12\",\n",
    "        \"_\": \"1623833739532\",\n",
    "    }\n",
    "    r = requests.get(url, params=params, timeout=15)\n",
    "    data_json = r.json()\n",
    "    if not data_json[\"data\"][\"diff\"]:\n",
    "        return dict()\n",
    "    temp_df = pd.DataFrame(data_json[\"data\"][\"diff\"]).T\n",
    "    temp_df[\"market_id\"] = 1\n",
    "    temp_df.columns = [\"sh_code\", \"sh_id\"]\n",
    "    code_id_dict = dict(zip(temp_df[\"sh_code\"], temp_df[\"sh_id\"]))\n",
    "    params = {\n",
    "        \"pn\": \"1\",\n",
    "        \"pz\": \"50000\",\n",
    "        \"po\": \"1\",\n",
    "        \"np\": \"2\",\n",
    "        \"ut\": \"bd1d9ddb04089700cf9c27f6f7426281\",\n",
    "        \"fltt\": \"2\",\n",
    "        \"invt\": \"2\",\n",
    "        \"fid\": \"f3\",\n",
    "        \"fs\": \"m:0 t:6,m:0 t:80\",\n",
    "        \"fields\": \"f12\",\n",
    "        \"_\": \"1623833739532\",\n",
    "    }\n",
    "    r = requests.get(url, params=params, timeout=15)\n",
    "    data_json = r.json()\n",
    "    if not data_json[\"data\"][\"diff\"]:\n",
    "        return dict()\n",
    "    temp_df_sz = pd.DataFrame(data_json[\"data\"][\"diff\"]).T\n",
    "    temp_df_sz[\"sz_id\"] = 0\n",
    "    code_id_dict.update(dict(zip(temp_df_sz[\"f12\"], temp_df_sz[\"sz_id\"])))\n",
    "    params = {\n",
    "        \"pn\": \"1\",\n",
    "        \"pz\": \"50000\",\n",
    "        \"po\": \"1\",\n",
    "        \"np\": \"2\",\n",
    "        \"ut\": \"bd1d9ddb04089700cf9c27f6f7426281\",\n",
    "        \"fltt\": \"2\",\n",
    "        \"invt\": \"2\",\n",
    "        \"fid\": \"f3\",\n",
    "        \"fs\": \"m:0 t:81 s:2048\",\n",
    "        \"fields\": \"f12\",\n",
    "        \"_\": \"1623833739532\",\n",
    "    }\n",
    "    r = requests.get(url, params=params, timeout=15)\n",
    "    data_json = r.json()\n",
    "    if not data_json[\"data\"][\"diff\"]:\n",
    "        return dict()\n",
    "    temp_df_sz = pd.DataFrame(data_json[\"data\"][\"diff\"]).T\n",
    "    temp_df_sz[\"bj_id\"] = 0\n",
    "    code_id_dict.update(dict(zip(temp_df_sz[\"f12\"], temp_df_sz[\"bj_id\"])))\n",
    "    return code_id_dict"
   ]
  },
  {
   "cell_type": "code",
   "execution_count": 4,
   "metadata": {},
   "outputs": [],
   "source": [
    "dicts = code_id_map_em()"
   ]
  },
  {
   "cell_type": "code",
   "execution_count": null,
   "metadata": {},
   "outputs": [],
   "source": [
    "dicts"
   ]
  },
  {
   "cell_type": "code",
   "execution_count": 16,
   "metadata": {},
   "outputs": [],
   "source": [
    "codes = \"605303\""
   ]
  },
  {
   "cell_type": "code",
   "execution_count": 18,
   "metadata": {},
   "outputs": [
    {
     "data": {
      "text/plain": [
       "'1.605303'"
      ]
     },
     "execution_count": 18,
     "metadata": {},
     "output_type": "execute_result"
    }
   ],
   "source": [
    "x = f\"{dicts[codes]}.{codes}\"\n",
    "x"
   ]
  },
  {
   "cell_type": "code",
   "execution_count": null,
   "metadata": {},
   "outputs": [],
   "source": [
    "len(dicts)\n",
    "dicts"
   ]
  },
  {
   "cell_type": "code",
   "execution_count": null,
   "metadata": {},
   "outputs": [],
   "source": [
    "data = ak.stock_zh_a_hist(\n",
    "    symbol=\"600584\",\n",
    "    period=\"daily\",\n",
    "    start_date=\"20240301\",\n",
    "    end_date=\"20250303\",\n",
    "    adjust=\"qfq\",\n",
    ")"
   ]
  },
  {
   "cell_type": "code",
   "execution_count": 8,
   "metadata": {},
   "outputs": [],
   "source": [
    "def stock_zh_a_hist(\n",
    "    symbol: str = \"000001\",\n",
    "    period: str = \"daily\",\n",
    "    start_date: str = \"19700101\",\n",
    "    end_date: str = \"20500101\",\n",
    "    adjust: str = \"\",\n",
    "    timeout: float = None,\n",
    ") -> pd.DataFrame:\n",
    "    \"\"\"\n",
    "    东方财富网-行情首页-沪深京 A 股-每日行情\n",
    "    https://quote.eastmoney.com/concept/sh603777.html?from=classic\n",
    "    :param symbol: 股票代码\n",
    "    :type symbol: str\n",
    "    :param period: choice of {'daily', 'weekly', 'monthly'}\n",
    "    :type period: str\n",
    "    :param start_date: 开始日期\n",
    "    :type start_date: str\n",
    "    :param end_date: 结束日期\n",
    "    :type end_date: str\n",
    "    :param adjust: choice of {\"qfq\": \"前复权\", \"hfq\": \"后复权\", \"\": \"不复权\"}\n",
    "    :type adjust: str\n",
    "    :param timeout: choice of None or a positive float number\n",
    "    :type timeout: float\n",
    "    :return: 每日行情\n",
    "    :rtype: pandas.DataFrame\n",
    "    \"\"\"\n",
    "    \n",
    "    adjust_dict = {\"qfq\": \"1\", \"hfq\": \"2\", \"\": \"0\"}\n",
    "    period_dict = {\"daily\": \"101\", \"weekly\": \"102\", \"monthly\": \"103\"}\n",
    "    url = \"https://push2his.eastmoney.com/api/qt/stock/kline/get\"\n",
    "    params = {\n",
    "        \"fields1\": \"f1,f2,f3,f4,f5,f6\",\n",
    "        \"fields2\": \"f51,f52,f53,f54,f55,f56,f57,f58,f59,f60,f61,f116\",\n",
    "        \"ut\": \"7eea3edcaed734bea9cbfc24409ed989\",\n",
    "        \"klt\": period_dict[period],\n",
    "        \"fqt\": adjust_dict[adjust],\n",
    "        \"secid\": f\"1.600584\",\n",
    "        \"beg\": start_date,\n",
    "        \"end\": end_date,\n",
    "        \"_\": \"1623766962675\",\n",
    "    }\n",
    "    r = requests.get(url, params=params, timeout=timeout)\n",
    "    data_json = r.json()\n",
    "    if not (data_json[\"data\"] and data_json[\"data\"][\"klines\"]):\n",
    "        return pd.DataFrame()\n",
    "    temp_df = pd.DataFrame([item.split(\",\") for item in data_json[\"data\"][\"klines\"]])\n",
    "    temp_df[\"股票代码\"] = symbol\n",
    "    temp_df.columns = [\n",
    "        \"日期\",\n",
    "        \"开盘\",\n",
    "        \"收盘\",\n",
    "        \"最高\",\n",
    "        \"最低\",\n",
    "        \"成交量\",\n",
    "        \"成交额\",\n",
    "        \"振幅\",\n",
    "        \"涨跌幅\",\n",
    "        \"涨跌额\",\n",
    "        \"换手率\",\n",
    "        \"股票代码\",\n",
    "    ]\n",
    "    temp_df[\"日期\"] = pd.to_datetime(temp_df[\"日期\"], errors=\"coerce\").dt.date\n",
    "    temp_df[\"开盘\"] = pd.to_numeric(temp_df[\"开盘\"], errors=\"coerce\")\n",
    "    temp_df[\"收盘\"] = pd.to_numeric(temp_df[\"收盘\"], errors=\"coerce\")\n",
    "    temp_df[\"最高\"] = pd.to_numeric(temp_df[\"最高\"], errors=\"coerce\")\n",
    "    temp_df[\"最低\"] = pd.to_numeric(temp_df[\"最低\"], errors=\"coerce\")\n",
    "    temp_df[\"成交量\"] = pd.to_numeric(temp_df[\"成交量\"], errors=\"coerce\")\n",
    "    temp_df[\"成交额\"] = pd.to_numeric(temp_df[\"成交额\"], errors=\"coerce\")\n",
    "    temp_df[\"振幅\"] = pd.to_numeric(temp_df[\"振幅\"], errors=\"coerce\")\n",
    "    temp_df[\"涨跌幅\"] = pd.to_numeric(temp_df[\"涨跌幅\"], errors=\"coerce\")\n",
    "    temp_df[\"涨跌额\"] = pd.to_numeric(temp_df[\"涨跌额\"], errors=\"coerce\")\n",
    "    temp_df[\"换手率\"] = pd.to_numeric(temp_df[\"换手率\"], errors=\"coerce\")\n",
    "    temp_df = temp_df[\n",
    "        [\n",
    "            \"日期\",\n",
    "            \"股票代码\",\n",
    "            \"开盘\",\n",
    "            \"收盘\",\n",
    "            \"最高\",\n",
    "            \"最低\",\n",
    "            \"成交量\",\n",
    "            \"成交额\",\n",
    "            \"振幅\",\n",
    "            \"涨跌幅\",\n",
    "            \"涨跌额\",\n",
    "            \"换手率\",\n",
    "        ]\n",
    "    ]\n",
    "    return temp_df"
   ]
  },
  {
   "cell_type": "code",
   "execution_count": 17,
   "metadata": {},
   "outputs": [
    {
     "data": {
      "text/plain": [
       "np.True_"
      ]
     },
     "execution_count": 17,
     "metadata": {},
     "output_type": "execute_result"
    }
   ],
   "source": [
    "st=stock_zh_a_hist(\n",
    "    symbol=\"600584\",\n",
    "    period=\"daily\",\n",
    "    start_date=\"20240301\",\n",
    "    end_date=\"20250303\",\n",
    "    adjust=\"qfq\",\n",
    ")\n",
    "st[\"涨跌幅\"].iloc[-3:].max() > -5"
   ]
  },
  {
   "cell_type": "code",
   "execution_count": 19,
   "metadata": {},
   "outputs": [
    {
     "data": {
      "text/plain": [
       "236    0.118496\n",
       "Name: 收盘, dtype: float64"
      ]
     },
     "execution_count": 19,
     "metadata": {},
     "output_type": "execute_result"
    }
   ],
   "source": [
    "down_pct = (\n",
    "            st[\"收盘\"].iloc[-20:].max() - st[\"收盘\"].iloc[-1:]\n",
    "        ) / st[\"收盘\"].iloc[-20:].max()\n",
    "down_pct"
   ]
  }
 ],
 "metadata": {
  "kernelspec": {
   "display_name": "stock2",
   "language": "python",
   "name": "python3"
  },
  "language_info": {
   "codemirror_mode": {
    "name": "ipython",
    "version": 3
   },
   "file_extension": ".py",
   "mimetype": "text/x-python",
   "name": "python",
   "nbconvert_exporter": "python",
   "pygments_lexer": "ipython3",
   "version": "3.11.11"
  }
 },
 "nbformat": 4,
 "nbformat_minor": 2
}
